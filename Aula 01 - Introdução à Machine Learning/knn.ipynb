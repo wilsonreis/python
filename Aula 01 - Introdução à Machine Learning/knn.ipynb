{
 "cells": [
  {
   "cell_type": "markdown",
   "metadata": {
    "id": "pCiHeGajNa8r"
   },
   "source": [
    "# Introdução Machine Learning - Data ICMC-USP\n",
    "\n",
    "## Prática - k-Nearest Neighbors\n",
    "\n",
    "Esse material foi desenvolvido pelo **Data**, grupo de extensão de aprendizado e ciência de dados compostos por alunos do Instituto de Ciências Matemáticas e de Computação da USP\n",
    "\n",
    "Para saber mais sobre as atividades do Data entre no nosso site e nos siga e nossas redes sociais:\n",
    "- [Site](http://data.icmc.usp.br/)\n",
    "- [Twitter](https://twitter.com/data_icmc)\n",
    "- [LinkedIn](https://www.linkedin.com/school/data-icmc/)\n",
    "- [Facebook](https://www.facebook.com/dataICMC/)\n",
    "\n",
    "Aproveite o material!"
   ]
  },
  {
   "cell_type": "code",
   "execution_count": 4,
   "metadata": {
    "executionInfo": {
     "elapsed": 1216,
     "status": "ok",
     "timestamp": 1732731139413,
     "user": {
      "displayName": "Alexandre Rodrigues Santos",
      "userId": "10930017436556459168"
     },
     "user_tz": 180
    },
    "id": "0lme8PYsNa8w"
   },
   "outputs": [],
   "source": [
    "import numpy as np\n",
    "import pandas as pd"
   ]
  },
  {
   "cell_type": "markdown",
   "metadata": {
    "id": "Yy5TwM0mNa83"
   },
   "source": [
    "Vamos começar carregando os dados que iremos usar no nossa tarefa. Esses dados fornecem várias informações a respeito de diferentes vinhos e o objetivo é classificar se o vinho é bom (target é a coluna *is_good*).\n",
    "\n",
    "Esse conjunto de dados é uma modificação do conjunto"
   ]
  },
  {
   "cell_type": "code",
   "execution_count": 5,
   "metadata": {
    "colab": {
     "base_uri": "https://localhost:8080/",
     "height": 206
    },
    "executionInfo": {
     "elapsed": 335,
     "status": "ok",
     "timestamp": 1657737066377,
     "user": {
      "displayName": "Pedro Rossi Silva Rodrigues",
      "userId": "01892655619564002552"
     },
     "user_tz": 180
    },
    "id": "7EKZr21cNa84",
    "outputId": "40eda431-f998-4728-ab78-6a534a52431f"
   },
   "outputs": [
    {
     "data": {
      "text/html": [
       "<div>\n",
       "<style scoped>\n",
       "    .dataframe tbody tr th:only-of-type {\n",
       "        vertical-align: middle;\n",
       "    }\n",
       "\n",
       "    .dataframe tbody tr th {\n",
       "        vertical-align: top;\n",
       "    }\n",
       "\n",
       "    .dataframe thead th {\n",
       "        text-align: right;\n",
       "    }\n",
       "</style>\n",
       "<table border=\"1\" class=\"dataframe\">\n",
       "  <thead>\n",
       "    <tr style=\"text-align: right;\">\n",
       "      <th></th>\n",
       "      <th>fixed acidity</th>\n",
       "      <th>volatile acidity</th>\n",
       "      <th>citric acid</th>\n",
       "      <th>residual sugar</th>\n",
       "      <th>chlorides</th>\n",
       "      <th>free sulfur dioxide</th>\n",
       "      <th>total sulfur dioxide</th>\n",
       "      <th>density</th>\n",
       "      <th>pH</th>\n",
       "      <th>sulphates</th>\n",
       "      <th>alcohol</th>\n",
       "      <th>is good</th>\n",
       "    </tr>\n",
       "  </thead>\n",
       "  <tbody>\n",
       "    <tr>\n",
       "      <th>0</th>\n",
       "      <td>7.4</td>\n",
       "      <td>0.70</td>\n",
       "      <td>0.00</td>\n",
       "      <td>1.9</td>\n",
       "      <td>0.076</td>\n",
       "      <td>11.0</td>\n",
       "      <td>34.0</td>\n",
       "      <td>0.9978</td>\n",
       "      <td>3.51</td>\n",
       "      <td>0.56</td>\n",
       "      <td>9.4</td>\n",
       "      <td>0.0</td>\n",
       "    </tr>\n",
       "    <tr>\n",
       "      <th>1</th>\n",
       "      <td>7.8</td>\n",
       "      <td>0.88</td>\n",
       "      <td>0.00</td>\n",
       "      <td>2.6</td>\n",
       "      <td>0.098</td>\n",
       "      <td>25.0</td>\n",
       "      <td>67.0</td>\n",
       "      <td>0.9968</td>\n",
       "      <td>3.20</td>\n",
       "      <td>0.68</td>\n",
       "      <td>9.8</td>\n",
       "      <td>0.0</td>\n",
       "    </tr>\n",
       "    <tr>\n",
       "      <th>2</th>\n",
       "      <td>7.8</td>\n",
       "      <td>0.76</td>\n",
       "      <td>0.04</td>\n",
       "      <td>2.3</td>\n",
       "      <td>0.092</td>\n",
       "      <td>15.0</td>\n",
       "      <td>54.0</td>\n",
       "      <td>0.9970</td>\n",
       "      <td>3.26</td>\n",
       "      <td>0.65</td>\n",
       "      <td>9.8</td>\n",
       "      <td>0.0</td>\n",
       "    </tr>\n",
       "    <tr>\n",
       "      <th>3</th>\n",
       "      <td>11.2</td>\n",
       "      <td>0.28</td>\n",
       "      <td>0.56</td>\n",
       "      <td>1.9</td>\n",
       "      <td>0.075</td>\n",
       "      <td>17.0</td>\n",
       "      <td>60.0</td>\n",
       "      <td>0.9980</td>\n",
       "      <td>3.16</td>\n",
       "      <td>0.58</td>\n",
       "      <td>9.8</td>\n",
       "      <td>1.0</td>\n",
       "    </tr>\n",
       "    <tr>\n",
       "      <th>4</th>\n",
       "      <td>7.4</td>\n",
       "      <td>0.70</td>\n",
       "      <td>0.00</td>\n",
       "      <td>1.9</td>\n",
       "      <td>0.076</td>\n",
       "      <td>11.0</td>\n",
       "      <td>34.0</td>\n",
       "      <td>0.9978</td>\n",
       "      <td>3.51</td>\n",
       "      <td>0.56</td>\n",
       "      <td>9.4</td>\n",
       "      <td>0.0</td>\n",
       "    </tr>\n",
       "  </tbody>\n",
       "</table>\n",
       "</div>"
      ],
      "text/plain": [
       "   fixed acidity  volatile acidity  citric acid  residual sugar  chlorides  \\\n",
       "0            7.4              0.70         0.00             1.9      0.076   \n",
       "1            7.8              0.88         0.00             2.6      0.098   \n",
       "2            7.8              0.76         0.04             2.3      0.092   \n",
       "3           11.2              0.28         0.56             1.9      0.075   \n",
       "4            7.4              0.70         0.00             1.9      0.076   \n",
       "\n",
       "   free sulfur dioxide  total sulfur dioxide  density    pH  sulphates  \\\n",
       "0                 11.0                  34.0   0.9978  3.51       0.56   \n",
       "1                 25.0                  67.0   0.9968  3.20       0.68   \n",
       "2                 15.0                  54.0   0.9970  3.26       0.65   \n",
       "3                 17.0                  60.0   0.9980  3.16       0.58   \n",
       "4                 11.0                  34.0   0.9978  3.51       0.56   \n",
       "\n",
       "   alcohol  is good  \n",
       "0      9.4      0.0  \n",
       "1      9.8      0.0  \n",
       "2      9.8      0.0  \n",
       "3      9.8      1.0  \n",
       "4      9.4      0.0  "
      ]
     },
     "execution_count": 5,
     "metadata": {},
     "output_type": "execute_result"
    }
   ],
   "source": [
    "df = pd.read_csv('vinho.csv')\n",
    "df.head()"
   ]
  },
  {
   "cell_type": "markdown",
   "metadata": {
    "id": "ef_Ajt2RNa86"
   },
   "source": [
    "### Deixando os dados na mesma escala\n",
    "Para vários algoritmos é importante deixarmos os dados em uma mesma escala, e o kNN um desses casos. Para entender melhor vamos olhar o exemplo a seguir:\n",
    "\n",
    "<img src=\"grafico_escala.png\" style=\"width: 400px\"/>\n",
    "\n",
    "Nesse caso a distância entre os dois pontos é dada por\n",
    "\n",
    "$$\n",
    "\\begin{align*}\n",
    "\\text{dist}(x^{(1)}, x^{(2)}) &= \\sqrt{(x^{(1)}_1 - x^{(2)}_1)^2 + (x^{(1)}_2 - x^{(2)}_2)^2} \\\\\n",
    "  &= \\sqrt{(3 - 2)^2 + (10000 - 9000)^2} \\\\\n",
    "  &= \\sqrt{1 + 1000000} \\\\\n",
    "  &= \\sqrt{1000001} \\\\\n",
    "  &= 1000.0005\n",
    "\\end{align*}$$\n",
    "\n",
    "\n",
    "Como as escalas são muito diferentes o primeiro atributo acaba não interferindo em praticamente nada no resultado da distância. E é importante perceber que esse tipo de situação ocorre com frequência em conjuntos de dados reais.\n",
    "\n",
    "Existem diversas formas de tratar essa situação, aqui usaremos uma técnica chamada **Min-Max Scaling**, que transforma os dados deixando-os no intervalo $[0, 1]$. A formula é da transformação é a seguinte:\n",
    "\n",
    "$$x^{(i)}_j \\leftarrow \\frac{x^{(i)}_j - min(x_j)}{max(x_j) - min(x_j)}$$\n",
    "\n",
    "Em palavras significa que vamos subtrair o menor valor da atributo e dividir pela amplitude (diferença entre o máximo e o mínimo).\n",
    "\n",
    "\n",
    "Pronto, agora que entendemos podemos fazer isso para todas as nossas colunas."
   ]
  },
  {
   "cell_type": "code",
   "execution_count": null,
   "metadata": {
    "id": "S96MDFD_Na87"
   },
   "outputs": [],
   "source": [
    "def MinMaxScale(x, min, max):\n",
    "    return (x - min) / (max - min)"
   ]
  },
  {
   "cell_type": "code",
   "execution_count": null,
   "metadata": {
    "colab": {
     "base_uri": "https://localhost:8080/"
    },
    "executionInfo": {
     "elapsed": 11,
     "status": "ok",
     "timestamp": 1657737204807,
     "user": {
      "displayName": "Pedro Rossi Silva Rodrigues",
      "userId": "01892655619564002552"
     },
     "user_tz": 180
    },
    "id": "D7tkBDmANa88",
    "outputId": "72408930-1ada-40b8-9db7-42520547d6d1"
   },
   "outputs": [
    {
     "name": "stdout",
     "output_type": "stream",
     "text": [
      "CPU times: user 9.29 ms, sys: 0 ns, total: 9.29 ms\n",
      "Wall time: 10.9 ms\n"
     ]
    }
   ],
   "source": [
    "%%time\n",
    "mins = df.min()\n",
    "maxs = df.max()\n",
    "\n",
    "for column in df:\n",
    "    df[column] = MinMaxScale(df[column], mins[column], maxs[column])\n",
    "\n",
    "df.head()"
   ]
  },
  {
   "cell_type": "code",
   "execution_count": null,
   "metadata": {
    "id": "nRlS1w7FNa8-"
   },
   "outputs": [],
   "source": [
    "target = \"is good\"\n",
    "features = df.columns.to_list()\n",
    "features.remove(target)"
   ]
  },
  {
   "cell_type": "markdown",
   "metadata": {
    "id": "iFecIiZkNa8_"
   },
   "source": [
    "Como vimos na aula, é necessário separar o conjunto de dados em treino e validação:"
   ]
  },
  {
   "cell_type": "code",
   "execution_count": null,
   "metadata": {
    "id": "rQ9hS9fHNa9A"
   },
   "outputs": [],
   "source": [
    "from sklearn.model_selection import train_test_split\n",
    "\n",
    "X_train, X_val, y_train, y_val = train_test_split(df[features], df[target], test_size=0.2, random_state=42)"
   ]
  },
  {
   "cell_type": "markdown",
   "metadata": {
    "id": "XbBU2EM4Na9B"
   },
   "source": [
    "Devemos implementar uma função de distância - neste exemplo, utilizaremos a distância euclidiana.\n",
    "\n",
    "Dica: tente implementar uma nova função de distância, como por exemplo a distância Manhattan e verifique como varia a performance do nosso modelo KNN."
   ]
  },
  {
   "cell_type": "code",
   "execution_count": null,
   "metadata": {
    "id": "PfpsdsWiNa9B"
   },
   "outputs": [],
   "source": [
    "def distance(x, y):\n",
    "    return np.sqrt(sum((x - y)**2))"
   ]
  },
  {
   "cell_type": "markdown",
   "metadata": {
    "id": "tn30TVrKNa9C"
   },
   "source": [
    "Construindo a classe KNN e implementando seus métodos:"
   ]
  },
  {
   "cell_type": "code",
   "execution_count": null,
   "metadata": {
    "id": "a6F8AOdTNa9C"
   },
   "outputs": [],
   "source": [
    "class KNearestNeighbors:\n",
    "    def __init__(self, k):\n",
    "        self.k = k\n",
    "\n",
    "    def fit(self, X, y):\n",
    "        self.X_train = X\n",
    "        self.y_train = y\n",
    "\n",
    "    def predict(self, X_val):\n",
    "        # Lista para resultado\n",
    "        y_pred = []\n",
    "        # Para cada amostra de vale, vamos calcular sua distância até os dados de treino\n",
    "        X_val_arr = X_val.to_numpy()\n",
    "        X_train_arr = self.X_train.to_numpy()\n",
    "        for row_val in X_val_arr:\n",
    "            # Array para guardar [index_train, distancia]\n",
    "            distances = []\n",
    "            # Vamos percorrer os dados de treino colocando as distancias em nossa matriz\n",
    "            for index_train, row_train in enumerate(X_train_arr):\n",
    "                distances.append([index_train, distance(row_val, row_train)])\n",
    "            # Vamos ordenar o array com base nas distancias (np.argsort retorna somente os indices)\n",
    "            distances = sorted(distances, key=lambda x: x[1])\n",
    "            # Pegando os k primeiros vizinhos\n",
    "            nearestNeighbors = distances[0:self.k]\n",
    "            # Ignorando agora as distancias\n",
    "            nearestNeighbors = np.array(nearestNeighbors)[:,0]\n",
    "            # Para cada vizinho, vamos analisar nos dados de treino o target\n",
    "            result = []\n",
    "            for neighbor in nearestNeighbors:\n",
    "                result.append(y_train.to_numpy()[int(neighbor)])\n",
    "            if np.array(result).sum() > len(result) / 2:\n",
    "                y_pred.append(1)\n",
    "            else:\n",
    "                y_pred.append(0)\n",
    "\n",
    "        return y_pred\n",
    "\n",
    "    def accuracy(self, y_val, y_pred):\n",
    "        total = 0\n",
    "        for val, pred in zip(y_val, y_pred):\n",
    "            if (val == pred):\n",
    "                total += 1\n",
    "        return total / len(y_val)"
   ]
  },
  {
   "cell_type": "markdown",
   "metadata": {
    "id": "zDy9tMTdNa9G"
   },
   "source": [
    "Uma vez com a classe construída, podemos instanciar um modelo e testar sua acurácia."
   ]
  },
  {
   "cell_type": "code",
   "execution_count": null,
   "metadata": {
    "colab": {
     "base_uri": "https://localhost:8080/"
    },
    "executionInfo": {
     "elapsed": 4681,
     "status": "ok",
     "timestamp": 1657737378167,
     "user": {
      "displayName": "Pedro Rossi Silva Rodrigues",
      "userId": "01892655619564002552"
     },
     "user_tz": 180
    },
    "id": "KirzIrjCNa9I",
    "outputId": "32e618cf-255d-4e57-c978-0afcf9704927"
   },
   "outputs": [
    {
     "data": {
      "text/plain": [
       "0.684375"
      ]
     },
     "execution_count": 19,
     "metadata": {},
     "output_type": "execute_result"
    }
   ],
   "source": [
    "model = KNearestNeighbors(k=5)\n",
    "model.fit(X_train, y_train)\n",
    "y_pred = model.predict(X_val)\n",
    "model.accuracy(y_pred, y_val)"
   ]
  },
  {
   "cell_type": "code",
   "execution_count": null,
   "metadata": {
    "colab": {
     "base_uri": "https://localhost:8080/"
    },
    "executionInfo": {
     "elapsed": 11037,
     "status": "ok",
     "timestamp": 1657737450096,
     "user": {
      "displayName": "Pedro Rossi Silva Rodrigues",
      "userId": "01892655619564002552"
     },
     "user_tz": 180
    },
    "id": "F7ZPgTVl2ORb",
    "outputId": "0c7abdde-63da-44ae-e316-1c616b1e66a6"
   },
   "outputs": [
    {
     "name": "stdout",
     "output_type": "stream",
     "text": [
      "0.71875\n",
      "0.684375\n",
      "0.709375\n",
      "0.7\n"
     ]
    }
   ],
   "source": [
    "ks = [3, 5, 7, 9]\n",
    "for k in ks:\n",
    "  model = KNearestNeighbors(k=k)\n",
    "  model.fit(X_train, y_train)\n",
    "  y_pred = model.predict(X_val)\n",
    "  print(model.accuracy(y_pred, y_val))"
   ]
  },
  {
   "cell_type": "code",
   "execution_count": null,
   "metadata": {
    "id": "fr4Owqq92eQw"
   },
   "outputs": [],
   "source": []
  }
 ],
 "metadata": {
  "colab": {
   "provenance": []
  },
  "interpreter": {
   "hash": "916dbcbb3f70747c44a77c7bcd40155683ae19c65e1c03b4aa3499c5328201f1"
  },
  "kernelspec": {
   "display_name": "Python 3 (ipykernel)",
   "language": "python",
   "name": "python3"
  },
  "language_info": {
   "codemirror_mode": {
    "name": "ipython",
    "version": 3
   },
   "file_extension": ".py",
   "mimetype": "text/x-python",
   "name": "python",
   "nbconvert_exporter": "python",
   "pygments_lexer": "ipython3",
   "version": "3.13.2"
  }
 },
 "nbformat": 4,
 "nbformat_minor": 4
}
